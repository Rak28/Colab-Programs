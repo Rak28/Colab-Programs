{
  "nbformat": 4,
  "nbformat_minor": 0,
  "metadata": {
    "colab": {
      "name": "PYTHN EXERCISE ON DICTIONARY.ipynb",
      "provenance": [],
      "collapsed_sections": [],
      "authorship_tag": "ABX9TyPqkXvTx+0YBLZededK9Iwg",
      "include_colab_link": true
    },
    "kernelspec": {
      "name": "python3",
      "display_name": "Python 3"
    }
  },
  "cells": [
    {
      "cell_type": "markdown",
      "metadata": {
        "id": "view-in-github",
        "colab_type": "text"
      },
      "source": [
        "<a href=\"https://colab.research.google.com/github/Rak28/Colab-Programs/blob/master/PYTHN_EXERCISE_ON_DICTIONARY.ipynb\" target=\"_parent\"><img src=\"https://colab.research.google.com/assets/colab-badge.svg\" alt=\"Open In Colab\"/></a>"
      ]
    },
    {
      "cell_type": "markdown",
      "metadata": {
        "id": "kjiTJWUjknd6",
        "colab_type": "text"
      },
      "source": [
        "1.Write a Python program that creates a Dictionary of area of  rectangle and its perimeter."
      ]
    },
    {
      "cell_type": "code",
      "metadata": {
        "id": "0lgEHVtJnXV1",
        "colab_type": "code",
        "colab": {}
      },
      "source": [
        "length  =int(input(\"Enter length of the rectangle: \"))\n",
        "breadth  =int(input(\"Enter breadth of the rectangle: \"))\n",
        "rectangle = {\"Area\":length * breadth,\"Perimeter\":2 * (length + breadth)}\n",
        "print(rectangle[\"Area\"])\n",
        "print(rectangle[\"Perimeter\"])"
      ],
      "execution_count": 0,
      "outputs": []
    },
    {
      "cell_type": "markdown",
      "metadata": {
        "id": "SbP0RtYSmR33",
        "colab_type": "text"
      },
      "source": [
        "2.Write a Python program that creates two Dictionaries. One that stores conversion values from meters to centimeters and the other that stores values from centimeters to meters."
      ]
    },
    {
      "cell_type": "code",
      "metadata": {
        "id": "hiXWyTpEncGg",
        "colab_type": "code",
        "colab": {}
      },
      "source": [
        "m=int(input(\"Enter distance in meter:\"))\n",
        "cm = int(input(\"Enter distance in centimeters:\"))\n",
        "meter_to_centimeters = {m:m*100}\n",
        "centimeters_to_meters = {cm:cm/100}\n",
        "print(meter_to_centimeters[m])\n",
        "print(centimeters_to_meters[cm])"
      ],
      "execution_count": 0,
      "outputs": []
    },
    {
      "cell_type": "markdown",
      "metadata": {
        "id": "pWHYNv7snDi_",
        "colab_type": "text"
      },
      "source": [
        "3) Write a Python program that creates a Dictionary of products purchased and their MRPs.\n",
        "Calculate the bill and display to the customer.\n"
      ]
    },
    {
      "cell_type": "code",
      "metadata": {
        "id": "dp6i_M3cniDH",
        "colab_type": "code",
        "colab": {}
      },
      "source": [
        "products = {\"Coconut\":200,\"Pen\":10,\"Pencil\":5,\"Chair\":599,\"Mobile\":100000}\n",
        "print(products)\n"
      ],
      "execution_count": 0,
      "outputs": []
    },
    {
      "cell_type": "markdown",
      "metadata": {
        "id": "A9NBAYBAnGhw",
        "colab_type": "text"
      },
      "source": [
        "4) Write a Python program that uses a dictionary to return the name of the employee of an organization when his/her project name is given."
      ]
    },
    {
      "cell_type": "code",
      "metadata": {
        "id": "z7oNZgjmnniS",
        "colab_type": "code",
        "colab": {}
      },
      "source": [
        "employee = {\"H.O.U.N.D\":\"Rakshith\",\"A.S.T.R\":\"Rkfdsl\"}\n",
        "print(employee[\"A.S.T.R\"])"
      ],
      "execution_count": 0,
      "outputs": []
    },
    {
      "cell_type": "markdown",
      "metadata": {
        "id": "4oS1cmStnJJY",
        "colab_type": "text"
      },
      "source": [
        "5) Write a Python program to iteration over Dictionary.\n"
      ]
    },
    {
      "cell_type": "code",
      "metadata": {
        "id": "H0XRrFjYnqJZ",
        "colab_type": "code",
        "colab": {}
      },
      "source": [
        "dict = {1:\"One\",2:\"TWO\",3:'THREE',4:'FOUR',5:'FIVE'}\n",
        "for i,j in dict.items():\n",
        "    print(i,j)"
      ],
      "execution_count": 0,
      "outputs": []
    },
    {
      "cell_type": "markdown",
      "metadata": {
        "id": "XYHZnE-jnLgm",
        "colab_type": "text"
      },
      "source": [
        "6) Write a Python program to add item(s) in a Dictionary.\n"
      ]
    },
    {
      "cell_type": "code",
      "metadata": {
        "id": "H11NR5EMnuCd",
        "colab_type": "code",
        "colab": {}
      },
      "source": [
        "dict = {1:1,2:2,3:3,4:4,5:5}\n",
        "dict.update({6:6,7:7})\n",
        "print(dict)"
      ],
      "execution_count": 0,
      "outputs": []
    },
    {
      "cell_type": "markdown",
      "metadata": {
        "id": "-PwA-ZqEnNnm",
        "colab_type": "text"
      },
      "source": [
        "7) Write a Python program to illustrate the use of del and clear () statement in a Dictionary.\n"
      ]
    },
    {
      "cell_type": "code",
      "metadata": {
        "id": "ZM2C0ar8nwSs",
        "colab_type": "code",
        "colab": {}
      },
      "source": [
        "dic = {1:1,2:2,3:3,4:4,5:5}\n",
        "\n",
        "print(dic)\n",
        "\n",
        "del dic[1]\n",
        "\n",
        "dic.clear()\n",
        "print(dic)"
      ],
      "execution_count": 0,
      "outputs": []
    },
    {
      "cell_type": "markdown",
      "metadata": {
        "id": "fXIS_3BUnPrd",
        "colab_type": "text"
      },
      "source": [
        "8) Write a Python program to remove item(s) randomly using popitem () from a Dictionary.\n"
      ]
    },
    {
      "cell_type": "code",
      "metadata": {
        "id": "p1Lc8dHRn1Xr",
        "colab_type": "code",
        "colab": {}
      },
      "source": [
        "dict = {1:1,2:2,3:3,4:4,5:5}\n",
        "\n",
        "print(dict)\n",
        "\n",
        "dict.popitem()\n",
        "print(dict)"
      ],
      "execution_count": 0,
      "outputs": []
    },
    {
      "cell_type": "markdown",
      "metadata": {
        "id": "3xC2z1uqnRj9",
        "colab_type": "text"
      },
      "source": [
        "9) Write a Python program to count the numbers of characters in the string and store them in a dictionary data structure.\n"
      ]
    },
    {
      "cell_type": "code",
      "metadata": {
        "id": "Us0zBbu9n2hH",
        "colab_type": "code",
        "colab": {}
      },
      "source": [
        "string = \"Rakshith\"\n",
        "len = len(string)\n",
        "str_dict = {}\n",
        "for i in range(len):\n",
        "    str_dict[i] = string[i]\n",
        "print(str_dict)"
      ],
      "execution_count": 0,
      "outputs": []
    },
    {
      "cell_type": "markdown",
      "metadata": {
        "id": "9lpOW1gVnTYq",
        "colab_type": "text"
      },
      "source": [
        "10) Write a Python program to find maximum and the minimum value in a Dictionary.\n"
      ]
    },
    {
      "cell_type": "code",
      "metadata": {
        "id": "9_fPlvR_n4zc",
        "colab_type": "code",
        "colab": {}
      },
      "source": [
        "dic = {1:1,2:2,3:3,4:4,5:5,6:6}\n",
        "print(\"max =\",max(dic))\n",
        "print(\"min =\",min(dic))"
      ],
      "execution_count": 0,
      "outputs": []
    },
    {
      "cell_type": "markdown",
      "metadata": {
        "id": "GJtaXXdMnVaY",
        "colab_type": "text"
      },
      "source": [
        "11) Write a Python program that has dictionary of names of  subject name and a list of that three assessment marks. Create another dictionary from this dictionary that has name of the subjects and their total marks. Find out the top most scoring and  least scoring with total."
      ]
    },
    {
      "cell_type": "code",
      "metadata": {
        "id": "vs2fPxstn814",
        "colab_type": "code",
        "colab": {}
      },
      "source": [
        "subject = {\"Maths\":[100,100,100],\"Python\":[100,100,100],\"Biology\":[98,97,96]}\n",
        "print(subject)\n",
        "subject_total ={}\n",
        "for i, j in subject.items():\n",
        "    subject_total[i] = sum(j)\n",
        "print(subject_total)"
      ],
      "execution_count": 0,
      "outputs": []
    },
    {
      "cell_type": "markdown",
      "metadata": {
        "id": "_o4e0K02wJSp",
        "colab_type": "text"
      },
      "source": [
        "12.Write a Python program that has a dictionary of subjects of first/second semester and their subject codes. Add another subject in the pre-defined dictionary, print all the items in the dictionary and try to print code for a subject does not exist. Set a default value prior to printing."
      ]
    },
    {
      "cell_type": "code",
      "metadata": {
        "id": "nkBjPdtFwTvn",
        "colab_type": "code",
        "outputId": "7428f732-47ae-455c-bbed-fcc048a58ac8",
        "colab": {
          "base_uri": "https://localhost:8080/",
          "height": 51
        }
      },
      "source": [
        "dic = {\"Maths\":\"MA5151\", \"Engineering Physics\":\"PH5251\"}\n",
        "dic.update({\"Python\":\"GE5251\"})\n",
        "print(dic)\n",
        "print(dic.setdefault(\"English\",\"None\"))"
      ],
      "execution_count": 0,
      "outputs": [
        {
          "output_type": "stream",
          "text": [
            "{'Maths': 'MA5151', 'Engineering Physics': 'PH5251', 'Python': 'GE5251'}\n",
            "None\n"
          ],
          "name": "stdout"
        }
      ]
    },
    {
      "cell_type": "markdown",
      "metadata": {
        "id": "A5V2SmPWSVk-",
        "colab_type": "text"
      },
      "source": [
        "13.Write a Python program that displays information about a student. Use nested dictionary to do the task"
      ]
    },
    {
      "cell_type": "code",
      "metadata": {
        "id": "UbkugF6OScoC",
        "colab_type": "code",
        "outputId": "33dc2a32-448c-4e2b-e7f0-b7e0fb93b40b",
        "colab": {
          "base_uri": "https://localhost:8080/",
          "height": 34
        }
      },
      "source": [
        "student = {\"Name\":\"Rakshith\",\"Marks\":{\"Subject1\":100,\"Subject2\":100,\"Subject13\":100}}\n",
        "print(student)"
      ],
      "execution_count": 0,
      "outputs": [
        {
          "output_type": "stream",
          "text": [
            "{'Name': 'Rakshith', 'Marks': {'Subject1': 100, 'Subject2': 100, 'Subject13': 100}}\n"
          ],
          "name": "stdout"
        }
      ]
    },
    {
      "cell_type": "markdown",
      "metadata": {
        "id": "eH87bW7WTf_a",
        "colab_type": "text"
      },
      "source": [
        "14.Write a Python script  to concatenate following dictionaries to create a new one.\n",
        "Sample Dictionary:\n",
        "\n",
        "dic1= {1:10, 2:20}\n",
        "\n",
        "dic2= {3:30, 4:40}\n",
        "\n",
        "dic3={5:50,6:60}\n",
        "\n",
        "Expected Result : {1: 10, 2: 20, 3: 30, 4: 40, 5: 50, 6: 60}\n"
      ]
    },
    {
      "cell_type": "code",
      "metadata": {
        "id": "Fd1seXpXTnpE",
        "colab_type": "code",
        "outputId": "e6468280-14a1-4777-886e-885c3ead1c19",
        "colab": {
          "base_uri": "https://localhost:8080/",
          "height": 34
        }
      },
      "source": [
        "dic1= {1:10, 2:20}\n",
        "dic2= {3:30, 4:40}\n",
        "dic3={5:50,6:60}\n",
        "new_dictionary ={}\n",
        "new_dictionary.update(dic1)\n",
        "new_dictionary.update(dic2)\n",
        "new_dictionary.update(dic3)\n",
        "print(new_dictionary)"
      ],
      "execution_count": 0,
      "outputs": [
        {
          "output_type": "stream",
          "text": [
            "{1: 10, 2: 20, 3: 30, 4: 40, 5: 50, 6: 60}\n"
          ],
          "name": "stdout"
        }
      ]
    },
    {
      "cell_type": "markdown",
      "metadata": {
        "id": "GwpVF_5hUULs",
        "colab_type": "text"
      },
      "source": [
        "15.Write a Python script to generate and print a dictionary that contains a number (between 1 and n) in the form (x, x*x).\n",
        "\n",
        "Sample Dictionary (n = 5):\n",
        "Expected Output: {1: 1, 2: 4, 3: 9, 4: 16, 5: 25}\n",
        "\n",
        "\n",
        "\n"
      ]
    },
    {
      "cell_type": "code",
      "metadata": {
        "id": "mYFO0Hh3UyuX",
        "colab_type": "code",
        "outputId": "26b8f3cd-0f19-407f-e3bb-b66e06acb8cf",
        "colab": {
          "base_uri": "https://localhost:8080/",
          "height": 34
        }
      },
      "source": [
        "dic = {x:x*x for x in range(1,6)}\n",
        "print(dic)"
      ],
      "execution_count": 0,
      "outputs": [
        {
          "output_type": "stream",
          "text": [
            "{1: 1, 2: 4, 3: 9, 4: 16, 5: 25}\n"
          ],
          "name": "stdout"
        }
      ]
    },
    {
      "cell_type": "markdown",
      "metadata": {
        "id": "GTXRoUXWVELt",
        "colab_type": "text"
      },
      "source": [
        "16.Write a Python program to sort a list alphabetically in a dictionary."
      ]
    },
    {
      "cell_type": "code",
      "metadata": {
        "id": "NHj2_o3nVFXA",
        "colab_type": "code",
        "outputId": "14a0e47b-510d-4e53-e822-bd523fd84c53",
        "colab": {
          "base_uri": "https://localhost:8080/",
          "height": 34
        }
      },
      "source": [
        "dic = {1:\"a\",2:\"b\",3:'c',4:'d',5:'g',6:'q'}\n",
        "print(sorted(dic.values()))"
      ],
      "execution_count": 0,
      "outputs": [
        {
          "output_type": "stream",
          "text": [
            "['a', 'b', 'c', 'd', 'g', 'q']\n"
          ],
          "name": "stdout"
        }
      ]
    },
    {
      "cell_type": "markdown",
      "metadata": {
        "id": "YO8KLf2yWPnS",
        "colab_type": "text"
      },
      "source": [
        "17.Write a Python program to get the top three items in a shop.\n",
        "Sample data: \n",
        "\n",
        "\n",
        "```\n",
        "{'item1': 45.50, 'item2':35, 'item3': 41.30, 'item4':55, 'item5': 24}\n",
        "```\n",
        "Expected Output:\n",
        "\n",
        "item4 55 item1 45.5 item3 41.3\n"
      ]
    },
    {
      "cell_type": "code",
      "metadata": {
        "id": "p5-z7IIgWl5n",
        "colab_type": "code",
        "outputId": "0f443240-ad1d-4b60-c032-c606eae19927",
        "colab": {
          "base_uri": "https://localhost:8080/",
          "height": 68
        }
      },
      "source": [
        "dic = {'item1': 45.50, 'item2':35, 'item3': 41.30, 'item4':55, 'item5': 24}\n",
        "for i in range(3):\n",
        "  print(\"item\",i,dic.pop(max(dic)))"
      ],
      "execution_count": 0,
      "outputs": [
        {
          "output_type": "stream",
          "text": [
            "item 0 24\n",
            "item 1 55\n",
            "item 2 41.3\n"
          ],
          "name": "stdout"
        }
      ]
    },
    {
      "cell_type": "markdown",
      "metadata": {
        "id": "ETPdsiq4XuB1",
        "colab_type": "text"
      },
      "source": [
        "18.Write a Python program to sort Counter by value.\n",
        "Sample data: \n",
        "```\n",
        "{'Math':81, 'Physics':83, 'Chemistry':87}\n",
        "``` \n",
        "Expected data: [('Chemistry', 87), ('Physics', 83), ('Math', 81)]"
      ]
    },
    {
      "cell_type": "code",
      "metadata": {
        "id": "-QjEOU_4YL4x",
        "colab_type": "code",
        "outputId": "336e1bf2-257a-4669-a840-e86054b9b76f",
        "colab": {
          "base_uri": "https://localhost:8080/",
          "height": 34
        }
      },
      "source": [
        "dic = {'Math':81, 'Physics':83, 'Chemistry':87}\n",
        "print(sorted(dic.items()))"
      ],
      "execution_count": 0,
      "outputs": [
        {
          "output_type": "stream",
          "text": [
            "[('Chemistry', 87), ('Math', 81), ('Physics', 83)]\n"
          ],
          "name": "stdout"
        }
      ]
    },
    {
      "cell_type": "markdown",
      "metadata": {
        "id": "aYejtmwQaVSD",
        "colab_type": "text"
      },
      "source": [
        "19.Write a Python program to match key values in two dictionaries.\n",
        "Sample dictionary: \n",
        "```\n",
        "{'key1': 1, 'key2': 3, 'key3': 2}, {'key1': 1, 'key2': 2}\n",
        "```\n",
        "Expected output: key1: 1 is present in both x and y.\n"
      ]
    },
    {
      "cell_type": "code",
      "metadata": {
        "id": "aE1lBkTRajRP",
        "colab_type": "code",
        "outputId": "b0ccb249-075c-4521-a0d7-287fbb0e2340",
        "colab": {
          "base_uri": "https://localhost:8080/",
          "height": 34
        }
      },
      "source": [
        "dic1 = {'key1': 1, 'key2': 3, 'key3': 2}\n",
        "dic2 = {'key1': 1, 'key2': 2}\n",
        "print(dic1.items() & dic2.items(),\"is present in both\")"
      ],
      "execution_count": 0,
      "outputs": [
        {
          "output_type": "stream",
          "text": [
            "{('key1', 1)} is present in both\n"
          ],
          "name": "stdout"
        }
      ]
    },
    {
      "cell_type": "markdown",
      "metadata": {
        "id": "0kcrecbJbmRP",
        "colab_type": "text"
      },
      "source": [
        "20.Write a Python script to sort (ascending and descending) a dictionary by value."
      ]
    },
    {
      "cell_type": "code",
      "metadata": {
        "id": "rpehy8mMbowH",
        "colab_type": "code",
        "outputId": "4b4b811e-b41c-44ab-aae8-59ca9fc9a775",
        "colab": {
          "base_uri": "https://localhost:8080/",
          "height": 51
        }
      },
      "source": [
        "dic = {'key1': 1, 'key2': 3, 'key3': 2}\n",
        "print(sorted(dic.values()))\n",
        "print(sorted(dic.values(),reverse=True))"
      ],
      "execution_count": 0,
      "outputs": [
        {
          "output_type": "stream",
          "text": [
            "[1, 2, 3]\n",
            "[3, 2, 1]\n"
          ],
          "name": "stdout"
        }
      ]
    }
  ]
}